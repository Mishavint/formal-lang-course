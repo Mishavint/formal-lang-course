{
 "cells": [
  {
   "cell_type": "markdown",
   "source": [
    "# Задача 12. Экспериментальное исследование алгоритмов решения задачи достижимости с КС ограничениями"
   ],
   "metadata": {
    "collapsed": false
   }
  },
  {
   "cell_type": "markdown",
   "source": [
    "### Установка пакетов"
   ],
   "metadata": {
    "collapsed": false
   }
  },
  {
   "cell_type": "code",
   "execution_count": 1,
   "outputs": [],
   "source": [
    "%%capture\n",
    "import pandas as pd\n",
    "!pip install pycubool seaborn matplotlib\n",
    "!pip install -r../ requirements.txt"
   ],
   "metadata": {
    "collapsed": false
   }
  },
  {
   "cell_type": "code",
   "execution_count": 2,
   "outputs": [],
   "source": [
    "import pathlib, sys, importlib.util\n",
    "\n",
    "if importlib.util.find_spec(\"project\") is None:\n",
    "    sys.path.append(str(pathlib.Path.cwd().parent))"
   ],
   "metadata": {
    "collapsed": false
   }
  },
  {
   "cell_type": "markdown",
   "source": [
    "# Введение\n",
    "Исследование посвящено анализу производительности различных алгоритмов решения задачи достижимости между всеми парами вершин с контекстно-свободными ограничениями: алгоритма Хеллингса, матричного алгоритма, тензорного алгоритма и сравнению этих алгоритмов между собой и с алгоритмами решения задачи достижимости с регулярными ограничениями: тензорным алгоритмом и алгоритмом, основанном на синхронном обходе в ширину.\n",
    "<br>\n",
    "\n",
    "## Исследуемые алгоритмы\n",
    "Будут использованы следующие алгоритмы решения задачи достижимости с **контекстно-свободными ограничениями**:\n",
    "1. **Алгоритм Хеллингса**\n",
    "Идея: используем грамматику в виде обобщённой нормальной формы Хомского (ОНФХ). Для каждого нетерминала храним выводимые пути из вершин в какие вершины. На каждой итерации берём один путь, который ранее не брали, и пытаемся соединить к нему другие ранее найденные выводимые пути.<br>\n",
    "2. **Матричный алгоритм**\n",
    "Идея: используем грамматику в виде обобщённой нормальной формы Хомского. Храним матрицу достижимости. Её элементы это множества нетерминалов, из которых выводимы пути между вершинами. На каждой итерации прибавляем к матрице достижимости её квадрат. Выполняем до тех пор, пока матрица меняется.<br>\n",
    "3. **Тензорный алгоритм**\n",
    "Идея: используем рекурсивный автомат, полученный по грамматике. На каждой итерации находим пересечение графа и автомата с помощью произведения Кронокера. После добавляем в граф ребра с метками нетерминалами для тех пар вершин, для которых были найдены пути, выводимые из этих нетерминалов.<br>\n",
    "\n",
    "Будет использоваться следующий алгоритм для решения задачи достижимости с **регулярными ограничениями**:\n",
    "1. **Тензорный алгоритм**\n",
    "Идея: с помощью произведения Кронекера находим матрицу смежности конечного автомата, распознающего пересечение языков, задаваемых графом и запросом, после этого находим транзитивное замыкание этой матрицы."
   ],
   "metadata": {
    "collapsed": false
   }
  },
  {
   "cell_type": "markdown",
   "source": [
    "# Исследовательские вопросы\n",
    "1. Какой из трёх алгоритмов решения задачи достижимости между всеми парами вершин с контекстно-свободными (КС) ограничениями обладает лучшей производительностью?\n",
    "\n",
    "2. Имеет ли смысл для решения задачи достижимости с регулярными ограничениями использовать алгоритмы для КС ограничений (ведь регулярные --- частный случай КС) или всё же лучше использовать специализированные алгоритмы для регулярных ограничений?"
   ],
   "metadata": {
    "collapsed": false
   }
  },
  {
   "cell_type": "markdown",
   "source": [
    "# Постановка экспериментов\n",
    "### Оборудование"
   ],
   "metadata": {
    "collapsed": false
   }
  },
  {
   "cell_type": "code",
   "execution_count": 3,
   "outputs": [
    {
     "name": "stdout",
     "output_type": "stream",
     "text": [
      "========== OS  ==========\r\n",
      "\u001B[01;31m\u001B[KOperating System\u001B[m\u001B[K: Ubuntu 22.04.1 LTS\r\n",
      "\r\n",
      "========== CPU ==========\r\n",
      "\u001B[01;31m\u001B[KArchitecture\u001B[m\u001B[K:                    x86_64\r\n",
      "\u001B[01;31m\u001B[KModel name\u001B[m\u001B[K:                      AMD Ryzen 5 4600H with Radeon Graphics\r\n",
      "\u001B[01;31m\u001B[KThread\u001B[m\u001B[K(s) per core:              2\r\n",
      "\u001B[01;31m\u001B[KCore\u001B[m\u001B[K(s) per socket:              6\r\n",
      "CPU max \u001B[01;31m\u001B[KMHz\u001B[m\u001B[K:                     3000.0000\r\n",
      "CPU min \u001B[01;31m\u001B[KMHz\u001B[m\u001B[K:                     1400.0000\r\n",
      "\r\n",
      "========== RAM ==========\r\n",
      "               total        used        free      shared  buff/cache   available\r\n",
      "Mem:           15414        5991        7708          67        1714        9048\r\n",
      "Swap:              0           0           0\r\n"
     ]
    }
   ],
   "source": [
    "! printf '========== OS  ==========\\n'\n",
    "! hostnamectl | grep -a 'Operating System'\n",
    "\n",
    "! printf '\\n========== CPU ==========\\n'\n",
    "!lscpu | grep -E 'Architecture|Model name|Thread|Core|MHz'\n",
    "\n",
    "! printf '\\n========== RAM ==========\\n'\n",
    "! free -m"
   ],
   "metadata": {
    "collapsed": false
   }
  },
  {
   "cell_type": "markdown",
   "source": [
    "#### Характеристики видеокарты\n",
    "NVIDIA GeForce GTX 1650 Ti Mobile\n",
    "Memory size: 4 GB\n",
    "CUDA: 7.5\n"
   ],
   "metadata": {
    "collapsed": false
   }
  },
  {
   "cell_type": "markdown",
   "source": [
    "### Описание набора данных\n",
    "Графы для проведения экспериментов были взяты из [CFPQ_Data](https://formallanguageconstrainedpathquerying.github.io/CFPQ_Data/graphs/index.html)\n",
    "Для более показательной работы алгоритмов были выбраны данные из разных областей:\n",
    "1. Анализ RFG\n",
    "2. Анализ указателей в C\n",
    "3. Анализ Java-программ"
   ],
   "metadata": {
    "collapsed": false
   }
  },
  {
   "cell_type": "code",
   "execution_count": 4,
   "outputs": [],
   "source": [
    "import cfpq_data\n",
    "import pandas\n",
    "\n",
    "from project.graphs_util import get_info_from_graph\n",
    "from project.graphs_util import get_graph_by_name\n",
    "\n",
    "cfpq_data.logging.disable()\n",
    "\n",
    "\n",
    "def generate_graphs(names):\n",
    "    res = []\n",
    "    for name in names:\n",
    "        graph = get_graph_by_name(name)\n",
    "        graph.name = name\n",
    "        res.append(graph)\n",
    "    return res\n",
    "\n",
    "\n",
    "rdf_graphs = generate_graphs([\"pizza\", \"core\", \"pathways\"])\n",
    "c_graphs = generate_graphs([\"bzip\", \"gzip\", \"wc\"])\n",
    "java_graphs = generate_graphs([\"lusearch\"])\n",
    "\n",
    "all_graphs = sorted(rdf_graphs + c_graphs + java_graphs, key=lambda graph: graph.number_of_edges())"
   ],
   "metadata": {
    "collapsed": false
   }
  },
  {
   "cell_type": "code",
   "execution_count": 38,
   "outputs": [
    {
     "data": {
      "text/plain": "  Graph name  Edges  Nodes\n0         wc    538    332\n1       bzip   1112    632\n2      pizza   3960    671\n3       gzip   4586   2687\n4       core   5504   1323\n5   pathways  24726   6238\n6   lusearch  29988  15774",
      "text/html": "<div>\n<style scoped>\n    .dataframe tbody tr th:only-of-type {\n        vertical-align: middle;\n    }\n\n    .dataframe tbody tr th {\n        vertical-align: top;\n    }\n\n    .dataframe thead th {\n        text-align: right;\n    }\n</style>\n<table border=\"1\" class=\"dataframe\">\n  <thead>\n    <tr style=\"text-align: right;\">\n      <th></th>\n      <th>Graph name</th>\n      <th>Edges</th>\n      <th>Nodes</th>\n    </tr>\n  </thead>\n  <tbody>\n    <tr>\n      <th>0</th>\n      <td>wc</td>\n      <td>538</td>\n      <td>332</td>\n    </tr>\n    <tr>\n      <th>1</th>\n      <td>bzip</td>\n      <td>1112</td>\n      <td>632</td>\n    </tr>\n    <tr>\n      <th>2</th>\n      <td>pizza</td>\n      <td>3960</td>\n      <td>671</td>\n    </tr>\n    <tr>\n      <th>3</th>\n      <td>gzip</td>\n      <td>4586</td>\n      <td>2687</td>\n    </tr>\n    <tr>\n      <th>4</th>\n      <td>core</td>\n      <td>5504</td>\n      <td>1323</td>\n    </tr>\n    <tr>\n      <th>5</th>\n      <td>pathways</td>\n      <td>24726</td>\n      <td>6238</td>\n    </tr>\n    <tr>\n      <th>6</th>\n      <td>lusearch</td>\n      <td>29988</td>\n      <td>15774</td>\n    </tr>\n  </tbody>\n</table>\n</div>"
     },
     "execution_count": 38,
     "metadata": {},
     "output_type": "execute_result"
    }
   ],
   "source": [
    "stats = []\n",
    "for graph in all_graphs:\n",
    "    info = get_info_from_graph(graph.name)\n",
    "    stats.append([graph.name, info[1] * 2, info[0]])\n",
    "\n",
    "pandas.DataFrame(stats, columns=[\"Graph name\", \"Edges\", \"Nodes\"])"
   ],
   "metadata": {
    "collapsed": false
   }
  },
  {
   "cell_type": "markdown",
   "source": [
    "### Запросы\n",
    "Для каждого графа были выбраны контекстно-свободные и регулярные запросы. Для каждого графа были выбраны грамматики из раздела \"Canonical grammars\" в описании соответствующего графа."
   ],
   "metadata": {
    "collapsed": false
   }
  },
  {
   "cell_type": "markdown",
   "source": [
    "#### Контекстно-свободные запросы\n",
    "* RDF графы\n",
    "1. S -> subClassOf_r S subClassOf | subClassOf_r subClassOf\n",
    "2. S -> type_r S type | type_r type\n",
    "3. S -> subClassOf_r S subClassOf | subClassOf_r subClassOf | type_r S type | type_r type\n",
    "* Графы для C\n",
    "1. S -> d_r V d\n",
    "2. V -> V1 V2 V3\n",
    "3. V1 -> epsilon\n",
    "4. V1 -> V2 a_r V1\n",
    "5. V2 -> epsilon\n",
    "6. V2 -> S\n",
    "7. V3 -> epsilon\n",
    "8. V3 -> a V2 V3\n",
    "* Графы для Java\n",
    "1. S -> PTh alloc\n",
    "2. PTh -> epsilon\n",
    "3. PTh -> assign PTh\n",
    "4. (for each field f) PTh -> load_f Al store_f PTh\n",
    "5. FT -> alloc_r FTh\n",
    "6. FTh -> epsilon\n",
    "7. FTh -> assign_r FTh\n",
    "8. (for each field f) FTh -> store_f_r Al load_f_r FTh\n",
    "9. Al -> S FT"
   ],
   "metadata": {
    "collapsed": false
   }
  },
  {
   "cell_type": "markdown",
   "source": [
    "#### Регулярные запросы\n",
    "Для генерации регулярных выражений используются 4 самые распространенные метки на ребрах графа и строятся по следующему шаблону, где $l_1$, $l_2$, $l_3$, $l_4$ метки ребер:\n",
    "\n",
    "1. $l_1^* \\ (l_2 \\ | \\ l_3)$\n",
    "2. $(l_3 \\ | \\ l_4)+ \\ l_1^*$\n",
    "3. $l_1 \\ l_2 \\ (l_3 \\ | \\ l_1)^* \\ l_4$"
   ],
   "metadata": {
    "collapsed": false
   }
  },
  {
   "cell_type": "code",
   "execution_count": 6,
   "outputs": [],
   "source": [
    "from pyformlang.cfg import CFG\n",
    "\n",
    "c_cfg = {\n",
    "    \"c_alias\": CFG.from_text(\n",
    "        \"\"\"\n",
    "        S -> d_r V d\n",
    "        V -> V1 V2 V3\n",
    "        V1 -> epsilon\n",
    "        V1 -> V2 a_r V1\n",
    "        V2 -> epsilon\n",
    "        V2 -> S\n",
    "        V3 -> epsilon\n",
    "        V3 -> a V2 V3\n",
    "        \"\"\"\n",
    "    )\n",
    "}\n",
    "\n",
    "rdf_cfg = {\n",
    "    \"1_rdf\": CFG.from_text(\n",
    "        \"\"\"\n",
    "        S -> subClassOf_r S subClassOf | subClassOf_r subClassOf\n",
    "        \"\"\"),\n",
    "    \"2_rdf\": CFG.from_text(\n",
    "        \"\"\"\n",
    "        S -> type_r S type | type_r type\n",
    "        \"\"\"\n",
    "    ),\n",
    "    \"3_rdf\": CFG.from_text(\n",
    "        \"\"\"\n",
    "        S -> subClassOf_r S subClassOf | subClassOf_r subClassOf | type_r S type | type_r type\n",
    "        \"\"\"\n",
    "    )\n",
    "}\n",
    "\n",
    "\n",
    "def java_cfg(graph):\n",
    "    path_to_cfg = cfpq_data.download_grammars(\"java_points_to\", graph_name=graph.name)\n",
    "    assert path_to_cfg is not None\n",
    "    path_to_cfg = path_to_cfg / f\"java_points_to_{graph.name}.txt\"\n",
    "    assert path_to_cfg.exists()\n",
    "    return {\"java_points_to\": cfpq_data.cfg_from_txt(path_to_cfg)}"
   ],
   "metadata": {
    "collapsed": false
   }
  },
  {
   "cell_type": "code",
   "execution_count": 7,
   "outputs": [],
   "source": [
    "from collections import Counter\n",
    "\n",
    "from pyformlang.regular_expression import Regex, regex_objects\n",
    "\n",
    "\n",
    "def reg_to_cfg(reg):\n",
    "    return lambda l1, l2, l3, l4: reg(l1, l2, l3, l4).to_cfg()\n",
    "\n",
    "\n",
    "def reg_by_str(str):\n",
    "    r = Regex(\"\")\n",
    "    r.head = regex_objects.Symbol(str)\n",
    "    return r\n",
    "\n",
    "\n",
    "def reg1(l1, l2, l3, l4):\n",
    "    r1 = reg_by_str(l1)\n",
    "    r2 = reg_by_str(l2)\n",
    "    r3 = reg_by_str(l3)\n",
    "\n",
    "    r1 = r1.kleene_star()\n",
    "    r23 = r2.union(r3)\n",
    "\n",
    "    return r1.concatenate(r23)\n",
    "\n",
    "\n",
    "def reg2(l1, l2, l3, l4):\n",
    "    r1 = reg_by_str(l1)\n",
    "    r2 = reg_by_str(l2)\n",
    "    r3 = reg_by_str(l3)\n",
    "\n",
    "    r23 = r2.union(r3)\n",
    "    r23 = r23.concatenate(r23.kleene_star())\n",
    "    r1 = r1.kleene_star()\n",
    "\n",
    "    return r23.concatenate(r1)\n",
    "\n",
    "\n",
    "def reg3(l1, l2, l3, l4):\n",
    "    r1 = reg_by_str(l1)\n",
    "    r2 = reg_by_str(l2)\n",
    "    r3 = reg_by_str(l3)\n",
    "    r4 = reg_by_str(l4)\n",
    "\n",
    "    r31 = r3.union(r1)\n",
    "    r31 = r31.kleene_star()\n",
    "\n",
    "    return r1.concatenate(r2).concatenate(r31).concatenate(r4)\n",
    "\n",
    "\n",
    "regs = {\n",
    "    str(\"l1* (l2 | l3)\"): (reg1, reg_to_cfg(reg1)),\n",
    "    str(\"(l3 | l4)+ l1*\"): (reg2, reg_to_cfg(reg2)),\n",
    "    str(\"l1 l2 (l3 | l1)* l4\"): (reg3, reg_to_cfg(reg3))\n",
    "}\n",
    "\n",
    "\n",
    "def get_most_common(source):\n",
    "    return sorted(\n",
    "        Counter(source).most_common(4), key=lambda x: (x[1], x[0]), reverse=True\n",
    "    )\n",
    "\n",
    "\n",
    "def get_rqs(graph):\n",
    "    info = get_info_from_graph(graph.name)\n",
    "    labels = get_most_common(info[2])\n",
    "    while len(labels) < 4:\n",
    "        labels += labels\n",
    "    labels = [l for l, _ in labels[:4]]\n",
    "    return [\n",
    "        (name, reg(*labels), cfg(*labels)) for (name, (reg, cfg)) in regs.items()\n",
    "    ]"
   ],
   "metadata": {
    "collapsed": false
   }
  },
  {
   "cell_type": "markdown",
   "source": [
    "## Замеры\n",
    "##### Какой из трёх указанных алгоритмов обладает лучшей производительностью?\n",
    "Для ответа на этот вопрос, было замерено время работы алгоритма Хеллингса, матричного алгоритма и тензорного алгоритма на выбранных графах с использованием для каждого графа его канонических КС-запросов и выбранных ранее регулярных запросов.\n",
    "\n",
    "##### Имеет ли смысл для решения задачи достижимости с регулярными ограничениями использовать алгоритмы для КС ограничений (ведь регулярные --- частный случай КС) или всё же лучше использовать специализированные алгоритмы для регулярных ограничений?\n",
    "Для ответа на этот вопрос, было замерено время работы всех рассмотренных ранее алгоритмов на всех комбинациях выбранных графов и регулярных запросов.\n"
   ],
   "metadata": {
    "collapsed": false
   }
  },
  {
   "cell_type": "code",
   "execution_count": 8,
   "outputs": [],
   "source": [
    "import signal\n",
    "import timeit\n",
    "\n",
    "\n",
    "def get_cf_qs(graph):\n",
    "    if graph in rdf_graphs:\n",
    "        return list(rdf_cfg.items())\n",
    "    elif graph in c_graphs:\n",
    "        return list(c_cfg.items())\n",
    "    elif graph in java_graphs:\n",
    "        return list(java_cfg(graph).items())\n",
    "\n",
    "\n",
    "class RunTimeoutError(Exception):\n",
    "    pass\n",
    "\n",
    "\n",
    "def timeout_handler(_signum, _frame):\n",
    "    raise RunTimeoutError\n",
    "\n",
    "\n",
    "def run_with_time(func, run_times=10, timeout_each=60):\n",
    "    total_timeout = run_times * timeout_each\n",
    "    signal.signal(signal.SIGALRM, timeout_handler)\n",
    "    try:\n",
    "        signal.alarm(total_timeout)\n",
    "        times = timeit.repeat(func, setup=\"gc.enable()\", repeat=run_times, number=1)\n",
    "    except Exception as e:\n",
    "        if isinstance(e, RunTimeoutError):\n",
    "            print(\"Time is out\", end=\" \")\n",
    "        else:\n",
    "            print(\"Memory is out\", end=\" \")\n",
    "        times = []\n",
    "    finally:\n",
    "        signal.alarm(0)\n",
    "\n",
    "    return times"
   ],
   "metadata": {
    "collapsed": false
   }
  },
  {
   "cell_type": "code",
   "execution_count": 10,
   "outputs": [],
   "source": [
    "from project.cfpq import cfpq, CfpqAlgorithms\n",
    "from cuda_cfpq import cfpq_matrix, cfpq_tensor\n",
    "import csv\n",
    "\n",
    "file_name = \"experiment_results.csv\"\n",
    "columns = (\"Граф\", \"Тип запроса\", \"Запрос\", \"Тип алгоритма\", \"Алгоритм\", \"Время, сек.\")\n",
    "\n",
    "\n",
    "def init_result_file():\n",
    "    if pathlib.Path(file_name).exists():\n",
    "        return False\n",
    "    with open(file_name, \"w\", newline=\"\") as f:\n",
    "        writer = csv.writer(f)\n",
    "        writer.writerow(columns)\n",
    "    return True\n",
    "\n",
    "\n",
    "def save_results(res):\n",
    "    with open(file_name, \"a\", newline=\"\") as f:\n",
    "        writer = csv.writer(f)\n",
    "        writer.writerows(res)\n",
    "\n",
    "\n",
    "def experiment():\n",
    "    if not init_result_file():\n",
    "        print(f\"Ошибка: {file_name} уже существует\")\n",
    "        return\n",
    "\n",
    "    for graph_i, graph in enumerate(all_graphs, start=1):\n",
    "        print(f\"============= Graph {graph.name}: {graph_i}/{len(all_graphs)} =============\")\n",
    "        cf_qs = get_cf_qs(graph)\n",
    "\n",
    "        for query_i, (query_name, query) in enumerate(cf_qs, start=1):\n",
    "            print(f\"~~~~~~~~~ CFPQ {query_i}/{len(cf_qs)} ~~~~~~~~~\")\n",
    "\n",
    "            def run(algorithm: str, func):\n",
    "                print(algorithm, end=\" \")\n",
    "                times = run_with_time(func)\n",
    "                print(times)\n",
    "                save_results([\n",
    "                    (graph.name, \"CFPQ\", query_name, \"CFPQ\", algorithm, time)\n",
    "                    for time in times\n",
    "                ])\n",
    "\n",
    "            run(\"Hellings\", lambda: cfpq(query, graph, algorithm=CfpqAlgorithms.HELLINGS))\n",
    "            run(\"matrix\", lambda: cfpq_matrix(query, graph))\n",
    "            run(\"tensor (CFPQ)\", lambda: cfpq_tensor(query, graph))\n",
    "\n",
    "        req_qs = get_rqs(graph)\n",
    "        for q_i, (query_name, query_reg, query_cfg) in enumerate(req_qs, start=1):\n",
    "            print(f\"~~~~~~~~~ RPQ {q_i} / {len(req_qs)} ~~~~~~~~~\")\n",
    "\n",
    "            def run(algorithm, algorithm_type, func):\n",
    "                print(algorithm, end=\" \")\n",
    "                times = run_with_time(func)\n",
    "                print(times)\n",
    "                save_results([\n",
    "                    (graph.name, \"RPQ\", query_name, algorithm_type, algorithm, time)\n",
    "                    for time in times\n",
    "                ])\n",
    "\n",
    "            run(\"Hellings\", \"CFPQ\", lambda: cfpq(query_cfg, graph, algorithm=CfpqAlgorithms.HELLINGS))\n",
    "            run(\"matrix\", \"CFPQ\", lambda: cfpq_matrix(graph, query_cfg))\n",
    "            run(\"tensor (CFPQ)\", \"CFPQ\", lambda: cfpq_tensor(graph, query_cfg))\n",
    "            run(\"tensor (RPQ)\", \"RPQ\", lambda: cfpq_tensor(graph, query_reg))"
   ],
   "metadata": {
    "collapsed": false
   }
  },
  {
   "cell_type": "code",
   "execution_count": null,
   "outputs": [],
   "source": [
    "experiment()"
   ],
   "metadata": {
    "collapsed": false,
    "pycharm": {
     "is_executing": true
    }
   }
  },
  {
   "cell_type": "markdown",
   "source": [
    "# Результаты"
   ],
   "metadata": {
    "collapsed": false
   }
  },
  {
   "cell_type": "markdown",
   "source": [
    "### Результаты в сравнении производительности контекстно-свободных алгоритмов(Вопрос 1)"
   ],
   "metadata": {
    "collapsed": false
   }
  },
  {
   "cell_type": "code",
   "execution_count": 33,
   "outputs": [],
   "source": [
    "%%capture\n",
    "import matplotlib.pyplot as plt\n",
    "import seaborn as sns\n",
    "\n",
    "raw = pandas.read_csv(file_name)\n",
    "\n",
    "plot = raw.copy()\n",
    "plot[\"Измерения\"] = plot[\"Запрос\"] + \" - \" + plot[\"Граф\"]\n",
    "plot.drop(columns=[\"Граф\", \"Запрос\"])\n",
    "\n",
    "plt.ion()"
   ],
   "metadata": {
    "collapsed": false
   }
  },
  {
   "cell_type": "code",
   "execution_count": 34,
   "outputs": [
    {
     "data": {
      "text/plain": "<Figure size 640x480 with 1 Axes>",
      "image/png": "[encoded data removed]"
     },
     "metadata": {},
     "output_type": "display_data"
    }
   ],
   "source": [
    "def plot_cfpq_results():\n",
    "    res = plot[plot[\"Тип алгоритма\"] == \"CFPQ\"].copy()\n",
    "    res[\"Алгоритм\"] = res[\"Алгоритм\"].map(lambda s: s.removesuffix(\" (CFPQ)\"))\n",
    "\n",
    "    ax = plt.subplot()\n",
    "    ax.set(yscale=\"log\")\n",
    "    g = sns.pointplot(\n",
    "        data=res,\n",
    "        x=\"Измерения\",\n",
    "        y=\"Время, сек.\",\n",
    "        hue=\"Алгоритм\",\n",
    "        join=False,\n",
    "        ax=ax,\n",
    "    )\n",
    "    g.set_title(\"Рис. 1. Время работы CFPQ алгоритмов\")\n",
    "    g.set_xticklabels(g.get_xticklabels(), rotation=270)\n",
    "\n",
    "\n",
    "plot_cfpq_results()"
   ],
   "metadata": {
    "collapsed": false
   }
  },
  {
   "cell_type": "markdown",
   "source": [
    "На Рис. 1 приведены результаты замеров для контекстно-свободных запросов.\n",
    "Можно заметить, что *матричный алгоритм* оказался наиболее быстрым. Так же стоит отметить, что для большинства запросов на графе lusearch доступного объема видеопамяти для запуска матричного алгоритма уже не хватило."
   ],
   "metadata": {
    "collapsed": false
   }
  },
  {
   "cell_type": "markdown",
   "source": [
    "### Результаты сравнения использования регулярных ограничений в качестве для КС алгоритмов(Вопрос 2)"
   ],
   "metadata": {
    "collapsed": false
   }
  },
  {
   "cell_type": "code",
   "execution_count": 35,
   "outputs": [
    {
     "data": {
      "text/plain": "<Figure size 640x480 with 1 Axes>",
      "image/png": "[encoded data removed]"
     },
     "metadata": {},
     "output_type": "display_data"
    }
   ],
   "source": [
    "raw = pandas.read_csv(file_name)\n",
    "\n",
    "plot = raw.copy()\n",
    "plot[\"Measure\"] = plot[\"Запрос\"] + \" - \" + plot[\"Граф\"]\n",
    "plot.drop(columns=[\"Граф\", \"Запрос\"])\n",
    "\n",
    "plt.ion()\n",
    "\n",
    "def plot_reg_results():\n",
    "    res = plot[\n",
    "        (plot[\"Тип запроса\"] == \"RPQ\") & (plot[\"Алгоритм\"].isin([\"matrix\", \"tensor (RPQ)\"]))].copy()\n",
    "    res[\"Алгоритм\"] = res[\"Алгоритм\"].map(lambda s: s + \" (CFPQ)\" if s == \"matrix\" else s)\n",
    "\n",
    "    ax = plt.subplot()\n",
    "    ax.set(yscale=\"log\")\n",
    "    g = sns.pointplot(\n",
    "        data=res,\n",
    "        x=\"Measure\",\n",
    "        y=\"Время, сек.\",\n",
    "        hue=\"Алгоритм\",\n",
    "        join=False,\n",
    "        ax=ax,\n",
    "    )\n",
    "    g.set_title(\"Рис. 2\")\n",
    "    g.set_xticklabels(g.get_xticklabels(), rotation=270)\n",
    "\n",
    "\n",
    "plot_reg_results()"
   ],
   "metadata": {
    "collapsed": false
   }
  },
  {
   "cell_type": "markdown",
   "source": [
    "Замеры показали, что матричный алгоритм для контекстно-свободных ограничений оказался быстрее, чем алгоритм, основанный на регулярных ограничениях."
   ],
   "metadata": {
    "collapsed": false
   }
  },
  {
   "cell_type": "markdown",
   "source": [
    "### Итоговая таблица"
   ],
   "metadata": {
    "collapsed": false
   }
  },
  {
   "cell_type": "code",
   "execution_count": 37,
   "outputs": [
    {
     "name": "stdout",
     "output_type": "stream",
     "text": [
      "                                           Время, сек.\n",
      "Граф     Запрос              Алгоритм                 \n",
      "pizza    l1* (l2 | l3)       matrix             0.0008\n",
      "         (l3 | l4)+ l1*      matrix              0.001\n",
      "         l1 l2 (l3 | l1)* l4 matrix              0.001\n",
      "         l1* (l2 | l3)       tensor (RPQ)         0.01\n",
      "         (l3 | l4)+ l1*      tensor (RPQ)         0.01\n",
      "         l1 l2 (l3 | l1)* l4 tensor (RPQ)         0.01\n",
      "bzip     l1* (l2 | l3)       matrix              0.002\n",
      "         (l3 | l4)+ l1*      matrix               0.02\n",
      "         l1 l2 (l3 | l1)* l4 matrix              0.004\n",
      "         l1* (l2 | l3)       tensor (RPQ)         0.08\n",
      "         (l3 | l4)+ l1*      tensor (RPQ)          0.2\n",
      "         l1 l2 (l3 | l1)* l4 tensor (RPQ)          0.1\n",
      "core     l1* (l2 | l3)       matrix             0.0008\n",
      "         (l3 | l4)+ l1*      matrix              0.001\n",
      "         l1 l2 (l3 | l1)* l4 matrix              0.001\n",
      "         l1* (l2 | l3)       tensor (RPQ)         0.01\n",
      "         (l3 | l4)+ l1*      tensor (RPQ)         0.01\n",
      "         l1 l2 (l3 | l1)* l4 tensor (RPQ)         0.01\n",
      "pathways l1* (l2 | l3)       matrix               0.03\n",
      "         (l3 | l4)+ l1*      matrix               0.04\n",
      "         l1 l2 (l3 | l1)* l4 matrix               0.05\n",
      "         l1* (l2 | l3)       tensor (RPQ)            2\n",
      "         (l3 | l4)+ l1*      tensor (RPQ)            2\n",
      "         l1 l2 (l3 | l1)* l4 tensor (RPQ)            2\n",
      "wc       c_alias             Hellings              0.5\n",
      "                             matrix              0.002\n",
      "                             tensor (CFPQ)         0.2\n",
      "         l1* (l2 | l3)       Hellings             0.06\n",
      "         (l3 | l4)+ l1*      Hellings             0.08\n",
      "         l1 l2 (l3 | l1)* l4 Hellings             0.05\n",
      "bzip     c_alias             Hellings                2\n",
      "                             matrix              0.003\n",
      "                             tensor (CFPQ)         0.6\n",
      "         l1* (l2 | l3)       Hellings              0.3\n",
      "         (l3 | l4)+ l1*      Hellings              0.4\n",
      "         l1 l2 (l3 | l1)* l4 Hellings              0.2\n",
      "pizza    1_rdf               Hellings            0.006\n",
      "                             matrix              0.002\n",
      "                             tensor (CFPQ)         0.2\n",
      "         2_rdf               Hellings             0.01\n",
      "                             matrix              0.002\n",
      "                             tensor (CFPQ)         0.2\n",
      "         3_rdf               Hellings             0.04\n",
      "                             matrix              0.003\n",
      "                             tensor (CFPQ)         0.2\n",
      "         l1* (l2 | l3)       Hellings                1\n",
      "         (l3 | l4)+ l1*      Hellings                1\n",
      "         l1 l2 (l3 | l1)* l4 Hellings                2\n",
      "gzip     c_alias             Hellings               47\n",
      "                             matrix               0.01\n",
      "                             tensor (CFPQ)           2\n",
      "         l1* (l2 | l3)       Hellings                5\n",
      "         (l3 | l4)+ l1*      Hellings                8\n",
      "         l1 l2 (l3 | l1)* l4 Hellings                4\n",
      "core     1_rdf               Hellings            0.004\n",
      "                             matrix              0.003\n",
      "                             tensor (CFPQ)         0.4\n",
      "         2_rdf               Hellings             0.05\n",
      "                             matrix              0.004\n",
      "                             tensor (CFPQ)         0.5\n",
      "         3_rdf               Hellings             0.07\n",
      "                             matrix              0.005\n",
      "                             tensor (CFPQ)         0.5\n",
      "         l1* (l2 | l3)       Hellings                1\n",
      "         (l3 | l4)+ l1*      Hellings                3\n",
      "         l1 l2 (l3 | l1)* l4 Hellings              0.9\n",
      "pathways 1_rdf               Hellings                1\n",
      "                             matrix               0.02\n",
      "                             tensor (CFPQ)           7\n",
      "         2_rdf               Hellings              0.9\n",
      "                             matrix               0.02\n",
      "                             tensor (CFPQ)           7\n",
      "         3_rdf               Hellings                4\n",
      "                             matrix               0.03\n",
      "                             tensor (CFPQ)           7\n",
      "         l1* (l2 | l3)       Hellings               58\n",
      "         l1 l2 (l3 | l1)* l4 Hellings               44\n",
      "lusearch java_points_to      matrix                  4\n"
     ]
    }
   ],
   "source": [
    "def results():\n",
    "    res = raw.drop(columns=[\"Тип запроса\", \"Тип алгоритма\"]).groupby([\"Граф\", \"Запрос\", \"Алгоритм\"], sort=False).mean()\n",
    "\n",
    "    res[\"Время, сек.\"] = res[\"Время, сек.\"].map(\n",
    "        lambda t: \"%.1g\" % t if t < 1 else str(round(t))\n",
    "    )\n",
    "    pandas.set_option(\"display.max_rows\", len(res))\n",
    "    print(res)\n",
    "    pd.reset_option(\"display.max_rows\")\n",
    "\n",
    "results()"
   ],
   "metadata": {
    "collapsed": false
   }
  },
  {
   "cell_type": "markdown",
   "source": [
    "# Заключение"
   ],
   "metadata": {
    "collapsed": false
   }
  },
  {
   "cell_type": "markdown",
   "source": [
    "В результате были получены следующие выводы:\n",
    "\n",
    "Самым эффективным алгоритмом является матричный. Однако, для него требуется большое количество видеопамяти. В связи с этим возникают проблемы запуска на больших графах. В это же время, такие графы может обработать алгоритм Хеллингса.\n",
    "\n",
    "Применение специализированных алгоритмов для регулярных запросов не имеет смысла, так как реализация матричного алгоритма для контекстно-свободных запросов оказывается быстрее и охватывает более широкое множество возможных запросов."
   ],
   "metadata": {
    "collapsed": false
   }
  }
 ],
 "metadata": {
  "kernelspec": {
   "display_name": "Python 3",
   "language": "python",
   "name": "python3"
  },
  "language_info": {
   "codemirror_mode": {
    "name": "ipython",
    "version": 2
   },
   "file_extension": ".py",
   "mimetype": "text/x-python",
   "name": "python",
   "nbconvert_exporter": "python",
   "pygments_lexer": "ipython2",
   "version": "2.7.6"
  }
 },
 "nbformat": 4,
 "nbformat_minor": 0
}
